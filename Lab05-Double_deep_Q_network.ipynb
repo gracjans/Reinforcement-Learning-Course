{
 "cells": [
  {
   "cell_type": "markdown",
   "metadata": {
    "id": "IsWxa8bUBLIW",
    "pycharm": {
     "name": "#%% md\n"
    }
   },
   "source": [
    "# Laboratorium 5 (4 pkt)\n",
    "\n",
    "Celem czwartego laboratorium jest zapoznanie się oraz zaimplementowanie algorytmów głębokiego uczenia aktywnego. Zaimplementowane algorytmy będą testowane z wykorzystaniem środowiska z OpenAI - *CartPole*.\n"
   ]
  },
  {
   "cell_type": "markdown",
   "metadata": {
    "id": "jM9Yok0cBLIX",
    "pycharm": {
     "name": "#%% md\n"
    }
   },
   "source": [
    "Dołączenie standardowych bibliotek"
   ]
  },
  {
   "cell_type": "code",
   "execution_count": 1,
   "metadata": {
    "id": "MwoypmnLBLIY",
    "pycharm": {
     "name": "#%%\n"
    }
   },
   "outputs": [],
   "source": [
    "from collections import deque\n",
    "import gym\n",
    "import numpy as np\n",
    "import random\n",
    "\n",
    "from gym.envs.classic_control import CartPoleEnv"
   ]
  },
  {
   "cell_type": "markdown",
   "metadata": {
    "id": "X-CssLnZBLIY",
    "pycharm": {
     "name": "#%% md\n"
    }
   },
   "source": [
    "Dołączenie bibliotek do obsługi sieci neuronowych"
   ]
  },
  {
   "cell_type": "code",
   "execution_count": 2,
   "metadata": {
    "colab": {
     "base_uri": "https://localhost:8080/"
    },
    "id": "bBddR5XrBLIY",
    "outputId": "fc1262d5-bc19-401a-e02e-43325a8792ce",
    "pycharm": {
     "name": "#%%\n"
    }
   },
   "outputs": [
    {
     "name": "stdout",
     "output_type": "stream",
     "text": [
      "TensorFlow 1.x selected.\n"
     ]
    },
    {
     "name": "stderr",
     "output_type": "stream",
     "text": [
      "Using TensorFlow backend.\n"
     ]
    }
   ],
   "source": [
    "%tensorflow_version 1.x\n",
    "from keras import Model\n",
    "from keras.layers import Dense\n",
    "from keras.models import Sequential\n",
    "from keras.optimizers import Adam"
   ]
  },
  {
   "cell_type": "markdown",
   "metadata": {
    "id": "j0sOcPlGBLIY",
    "pycharm": {
     "name": "#%% md\n"
    }
   },
   "source": [
    "## Zadanie 1 - Double Deep Q-Network\n",
    "\n",
    "<p style='text-align: justify;'>\n",
    "Celem ćwiczenie jest zaimplementowanie algorytmu Double Deep Q-Network. Wartoscią oczekiwaną sieci jest:\n",
    "\\begin{equation}\n",
    "       Q^*(s, a) \\approx r + \\gamma argmax_{a'}Q_\\theta'(s', a') \n",
    "\\end{equation}\n",
    "a wagi pomiędzy sieciami wymieniane są co dziesięć aktualizacji wag sieci sterującej poczynaniami agenta ($Q$).\n",
    "</p>"
   ]
  },
  {
   "cell_type": "code",
   "execution_count": 3,
   "metadata": {
    "id": "aAo4qKpVBLIZ",
    "pycharm": {
     "name": "#%%\n"
    }
   },
   "outputs": [],
   "source": [
    "class DDQNAgent:\n",
    "    def __init__(self, action_size, learning_rate, model, target_model, get_legal_actions=None, env=None):\n",
    "        self.state_size = state_size\n",
    "        self.action_size = action_size\n",
    "        self.memory = deque(maxlen=2000)\n",
    "        self.gamma = 0.95    # discount rate\n",
    "        self.epsilon = 0.5  # exploration rate\n",
    "        self.epsilon_min = 0.01\n",
    "        self.epsilon_decay = 0.999\n",
    "        self.tau = 0.85\n",
    "        self.learning_rate = learning_rate\n",
    "        self.model = model\n",
    "        self.target_model = target_model\n",
    "        self.get_legal_actions = get_legal_actions\n",
    "        self.update_weights()\n",
    "        self.replay_counter = 1\n",
    "        self.env = env\n",
    "\n",
    "    def remember(self, state, action, reward, next_state, done):\n",
    "        #Function adds information to the memory about last action and its results\n",
    "        self.memory.append((state, action, reward, next_state, done)) \n",
    "\n",
    "    def get_action(self, state):\n",
    "        \"\"\"\n",
    "        Compute the action to take in the current state, including exploration.\n",
    "        With probability self.epsilon, we should take a random action.\n",
    "            otherwise - the best policy action (self.get_best_action).\n",
    "\n",
    "        Note: To pick randomly from a list, use random.choice(list).\n",
    "              To pick True or False with a given probablity, generate uniform number in [0, 1]\n",
    "              and compare it with your probability\n",
    "        \"\"\"\n",
    "\n",
    "        #\n",
    "        # INSERT CODE HERE to get action in a given state (according to epsilon greedy algorithm)\n",
    "        #        \n",
    "        \n",
    "        epsilon = self.epsilon\n",
    "\n",
    "        # Pick Action\n",
    "        if isinstance(env, CartPoleEnv):\n",
    "            if np.random.random() < epsilon:\n",
    "                return self.env.action_space.sample()\n",
    "            else:\n",
    "                return np.argmax(self.model.predict(state)[0])\n",
    "        else:\n",
    "\n",
    "            possible_actions = self.get_legal_actions(state)\n",
    "\n",
    "            if len(possible_actions) == 0:\n",
    "                return None\n",
    "\n",
    "            if np.random.random() < epsilon:\n",
    "                chosen_action = random.choice(possible_actions)\n",
    "            else:\n",
    "                chosen_action = self.get_best_action(state)\n",
    "\n",
    "            return chosen_action\n",
    "\n",
    "    def get_best_action(self, state):\n",
    "        \"\"\"\n",
    "        Compute the best action to take in a state.\n",
    "        \"\"\"\n",
    "\n",
    "        #\n",
    "        # INSERT CODE HERE to get best possible action in a given state (remember to break ties randomly)\n",
    "        #\n",
    "        best_action = np.argmax(self.model.predict(state))\n",
    "\n",
    "        return best_action\n",
    "\n",
    "    def replay(self, batch_size):\n",
    "        \"\"\"\n",
    "        Function learn network using randomly selected actions from the memory. \n",
    "        First calculates Q value for the next state and choose action with the biggest value.\n",
    "        Target value is calculated according to:\n",
    "                Q(s,a) := (r + gamma * max_a(Q(s', a)))\n",
    "        except the situation when the next action is the last action, in such case Q(s, a) := r.\n",
    "        In order to change only those weights responsible for chosing given action, the rest values should be those\n",
    "        returned by the network for state state.\n",
    "        The network should be trained on batch_size samples.\n",
    "        After each 10 Q Network trainings parameters should be copied to the target Q Network\n",
    "        \"\"\"\n",
    "        #\n",
    "        # INSERT CODE HERE to train network\n",
    "        #\n",
    "        if len(self.memory) < batch_size:\n",
    "            return\n",
    "\n",
    "        info_sets = random.sample(self.memory, batch_size)\n",
    "        states_list = []\n",
    "        targets_list = []\n",
    "        for info_set in info_sets:\n",
    "            state, action, reward, next_state, done = info_set\n",
    "            states_list.append(state.flatten())\n",
    "            target = self.target_model.predict(state)\n",
    "            if done:\n",
    "                target[0][action] = reward\n",
    "            else:\n",
    "                Q_future = max(self.target_model.predict(next_state)[0])\n",
    "                target[0][action] = reward + Q_future * self.gamma\n",
    "            targets_list.append(target.flatten())\n",
    "\n",
    "        states_array = np.array(states_list)\n",
    "        targets_array = np.array(targets_list)\n",
    "\n",
    "        self.model.train_on_batch(states_array, targets_array)\n",
    "        self.update_epsilon_value()\n",
    "        self.replay_counter += 1\n",
    "        if self.replay_counter >= 10:\n",
    "            self.update_weights()\n",
    "            self.replay_counter = 0\n",
    "  \n",
    "    def update_epsilon_value(self):\n",
    "        #Every each epoch epsilon value should be updated according to equation: \n",
    "        #self.epsilon *= self.epsilon_decay, but the updated value shouldn't be lower then epsilon_min value\n",
    "        new_epsilon = self.epsilon * self.epsilon_decay\n",
    "        if new_epsilon >= self.epsilon_min:\n",
    "            self.epsilon = new_epsilon\n",
    "\n",
    "    def update_weights(self):\n",
    "        \"\"\"copy trained Q Network params to target Q Network\"\"\"\n",
    "        #\n",
    "        # INSERT CODE HERE to train network\n",
    "        #\n",
    "        weights = self.model.get_weights()\n",
    "        target_weights = self.target_model.get_weights()\n",
    "        for i in range(len(target_weights)):\n",
    "            target_weights[i] = weights[i] * self.tau + target_weights[i] * (1 - self.tau)\n",
    "            # target_weights[i] = weights[i]\n",
    "        self.target_model.set_weights(target_weights)\n"
   ]
  },
  {
   "cell_type": "markdown",
   "metadata": {
    "id": "oFUBiMYaBLIa",
    "pycharm": {
     "name": "#%% md\n"
    }
   },
   "source": [
    "Czas przygotować model sieci, która będzie się uczyła działania w środowisku [*CartPool*](https://gym.openai.com/envs/CartPole-v0/):"
   ]
  },
  {
   "cell_type": "code",
   "execution_count": 4,
   "metadata": {
    "colab": {
     "base_uri": "https://localhost:8080/"
    },
    "id": "YuGFT9VVBLIa",
    "outputId": "d75efbc2-3ebc-498e-e64f-e68ec265de9c",
    "pycharm": {
     "name": "#%%\n"
    }
   },
   "outputs": [
    {
     "name": "stdout",
     "output_type": "stream",
     "text": [
      "WARNING:tensorflow:From /tensorflow-1.15.2/python3.7/tensorflow_core/python/ops/resource_variable_ops.py:1630: calling BaseResourceVariable.__init__ (from tensorflow.python.ops.resource_variable_ops) with constraint is deprecated and will be removed in a future version.\n",
      "Instructions for updating:\n",
      "If using Keras pass *_constraint arguments to layers.\n"
     ]
    }
   ],
   "source": [
    "env = gym.make(\"CartPole-v0\").env\n",
    "state_size = env.observation_space.shape[0]\n",
    "action_size = env.action_space.n\n",
    "learning_rate = 0.001\n",
    "\n",
    "model1 = Sequential()\n",
    "model1.add(Dense(16, input_dim=state_size, activation=\"relu\"))\n",
    "model1.add(Dense(32, activation=\"relu\"))\n",
    "model1.add(Dense(16,activation='relu'))\n",
    "model1.add(Dense(action_size))\n",
    "model1.compile(loss=\"mean_squared_error\", optimizer=Adam(learning_rate=learning_rate))\n",
    "\n",
    "model2 = Sequential()\n",
    "model2.add(Dense(16, input_dim=state_size, activation=\"relu\"))\n",
    "model2.add(Dense(32, activation=\"relu\"))\n",
    "model2.add(Dense(16,activation='relu'))\n",
    "model2.add(Dense(action_size))\n",
    "model2.compile(loss=\"mean_squared_error\", optimizer=Adam(learning_rate=learning_rate))"
   ]
  },
  {
   "cell_type": "markdown",
   "metadata": {
    "id": "zVj5Son5BLIa",
    "pycharm": {
     "name": "#%% md\n"
    }
   },
   "source": [
    "Czas nauczyć agenta gry w środowisku *CartPool*:"
   ]
  },
  {
   "cell_type": "code",
   "execution_count": 5,
   "metadata": {
    "colab": {
     "base_uri": "https://localhost:8080/"
    },
    "id": "Lg_Q-2apBLIa",
    "outputId": "24079e8c-f313-42c6-d759-49f426ab99ec",
    "pycharm": {
     "name": "#%%\n"
    }
   },
   "outputs": [
    {
     "name": "stdout",
     "output_type": "stream",
     "text": [
      "WARNING:tensorflow:From /tensorflow-1.15.2/python3.7/keras/backend/tensorflow_backend.py:422: The name tf.global_variables is deprecated. Please use tf.compat.v1.global_variables instead.\n",
      "\n",
      "epoch #0\tmean reward = 18.630\tepsilon = 0.680\n",
      "epoch #1\tmean reward = 14.890\tepsilon = 0.615\n",
      "epoch #2\tmean reward = 13.360\tepsilon = 0.557\n",
      "epoch #3\tmean reward = 17.420\tepsilon = 0.504\n",
      "epoch #4\tmean reward = 31.440\tepsilon = 0.456\n",
      "epoch #5\tmean reward = 45.390\tepsilon = 0.412\n",
      "epoch #6\tmean reward = 57.860\tepsilon = 0.373\n",
      "epoch #7\tmean reward = 116.950\tepsilon = 0.338\n",
      "epoch #8\tmean reward = 87.160\tepsilon = 0.305\n",
      "epoch #9\tmean reward = 101.650\tepsilon = 0.276\n",
      "epoch #10\tmean reward = 146.140\tepsilon = 0.250\n",
      "epoch #11\tmean reward = 195.660\tepsilon = 0.226\n",
      "You Win!\n"
     ]
    }
   ],
   "source": [
    "agent = DDQNAgent(action_size, learning_rate, model1, model2, env=env)\n",
    "\n",
    "agent.epsilon = 0.75\n",
    "\n",
    "done = False\n",
    "batch_size = 64\n",
    "EPISODES = 1000\n",
    "counter = 0\n",
    "for e in range(EPISODES):\n",
    "    summary = []\n",
    "    for _ in range(100):\n",
    "        total_reward = 0\n",
    "        env_state = env.reset()\n",
    "    \n",
    "        #\n",
    "        # INSERT CODE HERE to prepare appropriate format of the state for network\n",
    "        #\n",
    "        state = np.array([np.array(env_state).flatten()])\n",
    "\n",
    "        for time in range(500):\n",
    "            action = agent.get_action(state)\n",
    "            next_state_env, reward, done, _ = env.step(action)\n",
    "            total_reward += reward\n",
    "\n",
    "            #\n",
    "            # INSERT CODE HERE to prepare appropriate format of the next state for network\n",
    "            #\n",
    "            next_state = np.array([np.array(next_state_env).flatten()])\n",
    "\n",
    "            #add to experience memory\n",
    "            agent.remember(state, action, reward, next_state, done)\n",
    "            state = next_state\n",
    "            if done:\n",
    "                break\n",
    "\n",
    "        #\n",
    "        # INSERT CODE HERE to train network if in the memory is more samples then size of the batch\n",
    "        #\n",
    "        if len(agent.memory) > batch_size:\n",
    "            agent.replay(batch_size)\n",
    "\n",
    "        summary.append(total_reward)\n",
    "        \n",
    "    print(\"epoch #{}\\tmean reward = {:.3f}\\tepsilon = {:.3f}\".format(e, np.mean(summary), agent.epsilon))    \n",
    "    \n",
    "    if np.mean(summary) > 195:\n",
    "        print (\"You Win!\")\n",
    "        break\n"
   ]
  },
  {
   "cell_type": "code",
   "execution_count": 5,
   "metadata": {
    "id": "JQHj3wVyEFYQ",
    "pycharm": {
     "name": "#%%\n"
    }
   },
   "outputs": [],
   "source": []
  }
 ],
 "metadata": {
  "accelerator": "GPU",
  "colab": {
   "collapsed_sections": [],
   "name": "Lab05-Gracjan_Strzelec.ipynb",
   "provenance": []
  },
  "kernelspec": {
   "display_name": "Python 3",
   "language": "python",
   "name": "python3"
  },
  "language_info": {
   "codemirror_mode": {
    "name": "ipython",
    "version": 3
   },
   "file_extension": ".py",
   "mimetype": "text/x-python",
   "name": "python",
   "nbconvert_exporter": "python",
   "pygments_lexer": "ipython3",
   "version": "3.7.5"
  }
 },
 "nbformat": 4,
 "nbformat_minor": 0
}