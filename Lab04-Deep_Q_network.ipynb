{
 "cells": [
  {
   "cell_type": "markdown",
   "metadata": {
    "id": "cxFSRHOD4PWq",
    "pycharm": {
     "name": "#%% md\n"
    }
   },
   "source": [
    "# Laboratorium 4 (4 pkt.)\n",
    "\n",
    "Celem czwartego laboratorium jest zapoznanie się oraz zaimplementowanie algorytmów głębokiego uczenia aktywnego. Zaimplementowane algorytmy będą testowane z wykorzystaniem wcześniej przygotowanych środowisk: *FrozenLake* i *Pacman* oraz środowiska z OpenAI - *CartPole*.\n"
   ]
  },
  {
   "cell_type": "markdown",
   "metadata": {
    "id": "Hw0WhdK14PWr",
    "pycharm": {
     "name": "#%% md\n"
    }
   },
   "source": [
    "Dołączenie standardowych bibliotek"
   ]
  },
  {
   "cell_type": "code",
   "execution_count": 1,
   "metadata": {
    "id": "cDQOU78r4PWs",
    "pycharm": {
     "name": "#%%\n"
    }
   },
   "outputs": [],
   "source": [
    "from collections import deque\n",
    "import gym\n",
    "import numpy as np\n",
    "import random"
   ]
  },
  {
   "cell_type": "markdown",
   "metadata": {
    "id": "vkbktipS4PWt",
    "pycharm": {
     "name": "#%% md\n"
    }
   },
   "source": [
    "Dołączenie bibliotek ze środowiskami:"
   ]
  },
  {
   "cell_type": "code",
   "execution_count": 2,
   "metadata": {
    "id": "0fWTZBGL4PWt",
    "pycharm": {
     "name": "#%%\n"
    }
   },
   "outputs": [],
   "source": [
    "from FrozenLakeMDP import frozenLake\n",
    "from FrozenLakeMDPExtended import frozenLake as frozenLakeExtended"
   ]
  },
  {
   "cell_type": "markdown",
   "metadata": {
    "id": "tMxdVeEJ4PWu",
    "pycharm": {
     "name": "#%% md\n"
    }
   },
   "source": [
    "Dołączenie bibliotek do obsługi sieci neuronowych"
   ]
  },
  {
   "cell_type": "code",
   "execution_count": 3,
   "metadata": {
    "colab": {
     "base_uri": "https://localhost:8080/"
    },
    "id": "r9fzbn8g4PWu",
    "outputId": "c53c1ad1-f46c-4e96-d07a-f4cc371ec827",
    "pycharm": {
     "name": "#%%\n"
    }
   },
   "outputs": [
    {
     "output_type": "stream",
     "name": "stdout",
     "text": [
      "TensorFlow 1.x selected.\n"
     ]
    },
    {
     "output_type": "stream",
     "name": "stderr",
     "text": [
      "Using TensorFlow backend.\n"
     ]
    }
   ],
   "source": [
    "%tensorflow_version 1.x\n",
    "from keras import Model\n",
    "from keras.layers import Dense\n",
    "from keras.models import Sequential\n",
    "from keras.optimizers import Adam\n",
    "from keras.utils import to_categorical"
   ]
  },
  {
   "cell_type": "markdown",
   "metadata": {
    "id": "rQicTMhL4PWv",
    "pycharm": {
     "name": "#%% md\n"
    }
   },
   "source": [
    "## Zadanie 1 - Deep Q-Network\n",
    "\n",
    "<p style='text-align: justify;'>\n",
    "Celem ćwiczenie jest zaimplementowanie algorytmu Deep Q-Network. Wartoscią oczekiwaną sieci jest:\n",
    "\\begin{equation}\n",
    "        Q(s_t, a_t) = r_{t+1} + \\gamma \\text{max}_a Q(s_{t + 1}, a)\n",
    "\\end{equation}\n",
    "</p>"
   ]
  },
  {
   "cell_type": "code",
   "execution_count": 4,
   "metadata": {
    "id": "8acwaPqI4PWv",
    "pycharm": {
     "name": "#%%\n"
    }
   },
   "outputs": [],
   "source": [
    "class DQNAgent:\n",
    "    def __init__(self, action_size, learning_rate, model, get_legal_actions):\n",
    "        self.get_legal_actions = get_legal_actions\n",
    "        self.action_size = action_size\n",
    "        self.memory = deque(maxlen=2000)\n",
    "        self.gamma = 0.95    # discount rate\n",
    "        self.epsilon = 1.0  # exploration rate\n",
    "        self.epsilon_min = 0.01\n",
    "        self.epsilon_decay = 0.999\n",
    "        self.learning_rate = learning_rate\n",
    "        self.model = model\n",
    "\n",
    "    def remember(self, state, action, reward, next_state, done):\n",
    "        #Function adds information to the memory about last action and its results\n",
    "        self.memory.append((state, action, reward, next_state, done)) \n",
    "\n",
    "    def get_action(self, state):\n",
    "        \"\"\"\n",
    "        Compute the action to take in the current state, including exploration.\n",
    "        With probability self.epsilon, we should take a random action.\n",
    "            otherwise - the best policy action (self.get_best_action).\n",
    "\n",
    "        Note: To pick randomly from a list, use random.choice(list).\n",
    "              To pick True or False with a given probablity, generate uniform number in [0, 1]\n",
    "              and compare it with your probability\n",
    "        \"\"\"\n",
    "        # Pick Action\n",
    "        possible_actions = self.get_legal_actions(state)\n",
    "\n",
    "        # If there are no legal actions, return None\n",
    "        if len(possible_actions) == 0:\n",
    "            return None\n",
    "\n",
    "        # agent parameters:\n",
    "        epsilon = self.epsilon\n",
    "\n",
    "        #\n",
    "        # INSERT CODE HERE to get action in a given state (according to epsilon greedy algorithm)\n",
    "        #        \n",
    "        if np.random.random() < epsilon:\n",
    "            chosen_action = random.choice(possible_actions)\n",
    "        else:\n",
    "            chosen_action = self.get_best_action(state)\n",
    "                \n",
    "        return chosen_action\n",
    "  \n",
    "    def get_best_action(self, state):\n",
    "        \"\"\"\n",
    "        Compute the best action to take in a state.\n",
    "        \"\"\"\n",
    "\n",
    "        #\n",
    "        # INSERT CODE HERE to get best possible action in a given state (remember to break ties randomly)\n",
    "        #\n",
    "        best_action = np.argmax(self.model.predict(state))\n",
    "\n",
    "        return best_action\n",
    "\n",
    "    def replay(self, batch_size):\n",
    "        \"\"\"\n",
    "        Function learn network using randomly selected actions from the memory. \n",
    "        First calculates Q value for the next state and choose action with the biggest value.\n",
    "        Target value is calculated according to:\n",
    "                Q(s,a) := (r + gamma * max_a(Q(s', a)))\n",
    "        except the situation when the next action is the last action, in such case Q(s, a) := r.\n",
    "        In order to change only those weights responsible for chosing given action, the rest values should be those\n",
    "        returned by the network for state state.\n",
    "        The network should be trained on batch_size samples.\n",
    "        \"\"\"\n",
    "        #\n",
    "        # INSERT CODE HERE to train network\n",
    "        #\n",
    "        if len(self.memory) < batch_size:\n",
    "            return\n",
    "\n",
    "        info_sets = random.sample(self.memory, batch_size)\n",
    "        states_list = []\n",
    "        targets_list = []\n",
    "        for info_set in info_sets:\n",
    "            state, action, reward, next_state, done = info_set\n",
    "            states_list.append(state.flatten())\n",
    "            target = self.model.predict(state)\n",
    "            if done:\n",
    "                target[0][action] = reward\n",
    "            else:\n",
    "                Q_future = max(self.model.predict(next_state)[0])\n",
    "                target[0][action] = reward + Q_future * self.gamma\n",
    "            targets_list.append(target.flatten())\n",
    "\n",
    "        states_array = np.array(states_list)\n",
    "        targets_array = np.array(targets_list)\n",
    "\n",
    "        self.model.train_on_batch(states_array, targets_array)\n",
    "        self.update_epsilon_value()\n",
    "\n",
    "    def update_epsilon_value(self):\n",
    "        #Every each epoch epsilon value should be updated according to equation: \n",
    "        #self.epsilon *= self.epsilon_decay, but the updated value shouldn't be lower then epsilon_min value\n",
    "        new_epsilon = self.epsilon * self.epsilon_decay\n",
    "        if new_epsilon >= self.epsilon_min:\n",
    "            self.epsilon = new_epsilon\n",
    "        "
   ]
  },
  {
   "cell_type": "markdown",
   "metadata": {
    "id": "-xyOgqR24PWx",
    "pycharm": {
     "name": "#%% md\n"
    }
   },
   "source": [
    "Czas przygotować model sieci, która będzie się uczyła poruszania po środowisku *FrozenLake*, warstwa wejściowa powinna mieć tyle neuronów ile jest możlliwych stanów, warstwa wyjściowa tyle neuronów ile jest możliwych akcji do wykonania:"
   ]
  },
  {
   "cell_type": "code",
   "execution_count": 5,
   "metadata": {
    "colab": {
     "base_uri": "https://localhost:8080/"
    },
    "id": "8m-uwZQY4PWx",
    "outputId": "83adeee3-4319-49bb-b9c0-fbd901edbfb1",
    "pycharm": {
     "name": "#%%\n"
    }
   },
   "outputs": [
    {
     "output_type": "stream",
     "name": "stdout",
     "text": [
      "WARNING:tensorflow:From /tensorflow-1.15.2/python3.7/tensorflow_core/python/ops/resource_variable_ops.py:1630: calling BaseResourceVariable.__init__ (from tensorflow.python.ops.resource_variable_ops) with constraint is deprecated and will be removed in a future version.\n",
      "Instructions for updating:\n",
      "If using Keras pass *_constraint arguments to layers.\n"
     ]
    }
   ],
   "source": [
    "env = frozenLake(\"8x8\")\n",
    "\n",
    "state_size = env.get_number_of_states()\n",
    "action_size = len(env.get_possible_actions(None))\n",
    "learning_rate = 0.001\n",
    "\n",
    "        #\n",
    "        # INSERT CODE HERE to build network\n",
    "        #\n",
    "\n",
    "model = Sequential()\n",
    "model.add(Dense(16, input_dim=state_size, activation=\"relu\"))\n",
    "model.add(Dense(32, activation=\"relu\"))\n",
    "model.add(Dense(16,activation='relu'))\n",
    "model.add(Dense(action_size))\n",
    "model.compile(loss=\"mean_squared_error\", optimizer=Adam(learning_rate=learning_rate))"
   ]
  },
  {
   "cell_type": "markdown",
   "metadata": {
    "id": "wH5KpHDJ4PWy",
    "pycharm": {
     "name": "#%% md\n"
    }
   },
   "source": [
    " Czas nauczyć agenta poruszania się po środowisku *FrozenLake*, jako stan przyjmij wektor o liczbie elementów równej liczbie możliwych stanów, z wartością 1 ustawioną w komórce o indeksie równym aktualnemu stanowi, pozostałe elementy mają być wypełnione zerami:\n",
    "* 1 pkt < 35 epok,\n",
    "* 0.5 pkt < 60 epok,\n",
    "* 0.25 pkt - w pozostałych przypadkach."
   ]
  },
  {
   "cell_type": "code",
   "execution_count": 6,
   "metadata": {
    "colab": {
     "base_uri": "https://localhost:8080/"
    },
    "id": "uQr0xcQ94PWy",
    "outputId": "3c0726ea-0d92-4fbe-bb63-cf15a52db1a3",
    "pycharm": {
     "name": "#%%\n"
    }
   },
   "outputs": [
    {
     "output_type": "stream",
     "name": "stdout",
     "text": [
      "WARNING:tensorflow:From /tensorflow-1.15.2/python3.7/keras/backend/tensorflow_backend.py:422: The name tf.global_variables is deprecated. Please use tf.compat.v1.global_variables instead.\n",
      "\n",
      "epoch #0\tmean reward = 0.000\tepsilon = 0.815\n",
      "epoch #1\tmean reward = 0.000\tepsilon = 0.738\n",
      "epoch #2\tmean reward = 0.010\tepsilon = 0.667\n",
      "epoch #3\tmean reward = 0.010\tepsilon = 0.604\n",
      "epoch #4\tmean reward = 0.020\tepsilon = 0.546\n",
      "epoch #5\tmean reward = 0.000\tepsilon = 0.494\n",
      "epoch #6\tmean reward = 0.020\tepsilon = 0.447\n",
      "epoch #7\tmean reward = 0.040\tepsilon = 0.405\n",
      "epoch #8\tmean reward = 0.190\tepsilon = 0.366\n",
      "epoch #9\tmean reward = 0.290\tepsilon = 0.331\n",
      "epoch #10\tmean reward = 0.600\tepsilon = 0.300\n",
      "epoch #11\tmean reward = 0.680\tepsilon = 0.271\n",
      "epoch #12\tmean reward = 0.590\tepsilon = 0.245\n",
      "epoch #13\tmean reward = 0.660\tepsilon = 0.222\n",
      "epoch #14\tmean reward = 0.660\tepsilon = 0.201\n",
      "epoch #15\tmean reward = 0.600\tepsilon = 0.182\n",
      "epoch #16\tmean reward = 0.630\tepsilon = 0.164\n",
      "epoch #17\tmean reward = 0.690\tepsilon = 0.149\n",
      "epoch #18\tmean reward = 0.720\tepsilon = 0.135\n",
      "epoch #19\tmean reward = 0.650\tepsilon = 0.122\n",
      "epoch #20\tmean reward = 0.780\tepsilon = 0.110\n",
      "epoch #21\tmean reward = 0.840\tepsilon = 0.100\n",
      "epoch #22\tmean reward = 0.790\tepsilon = 0.090\n",
      "epoch #23\tmean reward = 0.910\tepsilon = 0.082\n",
      "You Win!\n"
     ]
    }
   ],
   "source": [
    "agent = DQNAgent(action_size, learning_rate, model, env.get_possible_actions)\n",
    "\n",
    "agent.epsilon = 0.9\n",
    "\n",
    "done = False\n",
    "batch_size = 64\n",
    "EPISODES = 10000\n",
    "counter = 0\n",
    "for e in range(EPISODES):\n",
    "\n",
    "    summary = []\n",
    "    for _ in range(100):\n",
    "        total_reward = 0\n",
    "        env_state = env.reset()\n",
    "    \n",
    "        #\n",
    "        # INSERT CODE HERE to prepare appropriate format of the state for network\n",
    "        #\n",
    "        state = np.array([to_categorical(env_state, num_classes=state_size)])\n",
    "        \n",
    "        for _ in range(1000):\n",
    "            action = agent.get_action(state)\n",
    "            next_state_env, reward, done, _ = env.step(action)\n",
    "            total_reward += reward\n",
    "\n",
    "            #\n",
    "            # INSERT CODE HERE to prepare appropriate format of the next state for network\n",
    "            #\n",
    "            next_state = np.array([to_categorical(next_state_env, num_classes=state_size)])\n",
    "\n",
    "            #add to experience memory\n",
    "            agent.remember(state, action, reward, next_state, done)\n",
    "            state = next_state\n",
    "            if done:\n",
    "                break\n",
    "\n",
    "        #\n",
    "        # INSERT CODE HERE to train network if in the memory is more samples then size of the batch\n",
    "        #\n",
    "        if len(agent.memory) > batch_size:\n",
    "            agent.replay(batch_size)\n",
    "        \n",
    "        summary.append(total_reward)\n",
    "\n",
    "    print(\"epoch #{}\\tmean reward = {:.3f}\\tepsilon = {:.3f}\".format(e, np.mean(summary), agent.epsilon))\n",
    "\n",
    "    if np.mean(summary) > 0.9:\n",
    "        print (\"You Win!\")\n",
    "        break"
   ]
  },
  {
   "cell_type": "markdown",
   "metadata": {
    "id": "CmLdl7CL4PWz",
    "pycharm": {
     "name": "#%% md\n"
    }
   },
   "source": [
    "Czas przygotować model sieci, która będzie się uczyła poruszania po środowisku *FrozenLakeExtended*, tym razem stan nie jest określany poprzez pojedynczą liczbę, a przez 3 tablice:\n",
    "* pierwsza zawierająca informacje o celu,\n",
    "* druga zawierająca informacje o dziurach,\n",
    "* trzecia zawierająca informację o położeniu gracza."
   ]
  },
  {
   "cell_type": "code",
   "execution_count": 7,
   "metadata": {
    "id": "lo0f8utB4PWz",
    "pycharm": {
     "name": "#%%\n"
    }
   },
   "outputs": [],
   "source": [
    "env = frozenLakeExtended(\"4x4\")\n",
    "\n",
    "state_size = env.get_number_of_states() * 3\n",
    "action_size = len(env.get_possible_actions(None))\n",
    "learning_rate = 0.001\n",
    "     \n",
    "        #\n",
    "        # INSERT CODE HERE to build network\n",
    "        #\n",
    "\n",
    "model = Sequential()\n",
    "model.add(Dense(16, input_dim=state_size, activation=\"relu\"))\n",
    "model.add(Dense(32, activation=\"relu\"))\n",
    "model.add(Dense(action_size))\n",
    "model.compile(loss=\"mean_squared_error\", optimizer=Adam(learning_rate=learning_rate))"
   ]
  },
  {
   "cell_type": "markdown",
   "metadata": {
    "id": "JQJ729nb4PWz",
    "pycharm": {
     "name": "#%% md\n"
    }
   },
   "source": [
    " Czas nauczyć agenta poruszania się po środowisku *FrozenLakeExtended*, jako stan przyjmij wektor składający się ze wszystkich trzech tablic (2 pkt.):"
   ]
  },
  {
   "cell_type": "code",
   "execution_count": 8,
   "metadata": {
    "colab": {
     "base_uri": "https://localhost:8080/"
    },
    "id": "KF9NuOMe4PWz",
    "outputId": "d049b892-ab9a-4036-f4c0-e617fc3a3a30",
    "pycharm": {
     "name": "#%%\n"
    }
   },
   "outputs": [
    {
     "output_type": "stream",
     "name": "stdout",
     "text": [
      "epoch #0\tmean reward = 0.000\tepsilon = 0.683\n",
      "epoch #1\tmean reward = 0.010\tepsilon = 0.618\n",
      "epoch #2\tmean reward = 0.000\tepsilon = 0.559\n",
      "epoch #3\tmean reward = 0.000\tepsilon = 0.506\n",
      "epoch #4\tmean reward = 0.050\tepsilon = 0.458\n",
      "epoch #5\tmean reward = 0.030\tepsilon = 0.414\n",
      "epoch #6\tmean reward = 0.290\tepsilon = 0.375\n",
      "epoch #7\tmean reward = 0.450\tepsilon = 0.339\n",
      "epoch #8\tmean reward = 0.420\tepsilon = 0.307\n",
      "epoch #9\tmean reward = 0.560\tepsilon = 0.278\n",
      "epoch #10\tmean reward = 0.620\tepsilon = 0.251\n",
      "epoch #11\tmean reward = 0.670\tepsilon = 0.227\n",
      "epoch #12\tmean reward = 0.600\tepsilon = 0.206\n",
      "epoch #13\tmean reward = 0.730\tepsilon = 0.186\n",
      "epoch #14\tmean reward = 0.720\tepsilon = 0.168\n",
      "epoch #15\tmean reward = 0.840\tepsilon = 0.152\n",
      "epoch #16\tmean reward = 0.740\tepsilon = 0.138\n",
      "epoch #17\tmean reward = 0.730\tepsilon = 0.125\n",
      "epoch #18\tmean reward = 0.840\tepsilon = 0.113\n",
      "epoch #19\tmean reward = 0.930\tepsilon = 0.102\n",
      "You Win!\n"
     ]
    }
   ],
   "source": [
    "agent = DQNAgent(action_size, learning_rate, model, env.get_possible_actions)\n",
    "\n",
    "agent.epsilon = 0.75\n",
    "\n",
    "done = False\n",
    "batch_size = 64\n",
    "EPISODES = 2000\n",
    "counter = 0\n",
    "for e in range(EPISODES):\n",
    "    summary = []\n",
    "    for _ in range(100):\n",
    "        total_reward = 0\n",
    "        env_state = env.reset()\n",
    "    \n",
    "        #\n",
    "        # INSERT CODE HERE to prepare appropriate format of the state for network\n",
    "        #\n",
    "        state = np.array([np.array(env_state).flatten()])\n",
    "        \n",
    "        for time in range(1000):\n",
    "            action = agent.get_action(state)\n",
    "            next_state_env, reward, done, _ = env.step(action)\n",
    "            total_reward += reward\n",
    "\n",
    "            #\n",
    "            # INSERT CODE HERE to prepare appropriate format of the next state for network\n",
    "            #\n",
    "            next_state = np.array([np.array(next_state_env).flatten()])\n",
    "\n",
    "            #add to experience memory\n",
    "            agent.remember(state, action, reward, next_state, done)\n",
    "            state = next_state\n",
    "            if done:\n",
    "                break\n",
    "\n",
    "        #\n",
    "        # INSERT CODE HERE to train network if in the memory is more samples then size of the batch\n",
    "        #\n",
    "        if len(agent.memory) > batch_size:\n",
    "            agent.replay(batch_size)\n",
    "        \n",
    "        summary.append(total_reward)\n",
    "    \n",
    "    print(\"epoch #{}\\tmean reward = {:.3f}\\tepsilon = {:.3f}\".format(e, np.mean(summary), agent.epsilon))\n",
    "    \n",
    "    if np.mean(summary) > 0.9:\n",
    "        print (\"You Win!\")\n",
    "        break"
   ]
  },
  {
   "cell_type": "markdown",
   "metadata": {
    "id": "B6Mf5T1V4PW0",
    "pycharm": {
     "name": "#%% md\n"
    }
   },
   "source": [
    "Czas przygotować model sieci, która będzie się uczyła działania w środowisku [*CartPool*](https://gym.openai.com/envs/CartPole-v0/):"
   ]
  },
  {
   "cell_type": "code",
   "execution_count": 9,
   "metadata": {
    "id": "TRwnojPJ4PW0",
    "pycharm": {
     "name": "#%%\n"
    }
   },
   "outputs": [],
   "source": [
    "env = gym.make(\"CartPole-v0\").env\n",
    "state_size = env.observation_space.shape[0]\n",
    "action_size = env.action_space.n\n",
    "learning_rate = 0.001\n",
    "       \n",
    "        #\n",
    "        # INSERT CODE HERE to build network\n",
    "        #\n",
    "\n",
    "model = Sequential()\n",
    "model.add(Dense(64, input_dim=state_size, activation=\"relu\"))\n",
    "model.add(Dense(128, activation=\"relu\"))\n",
    "model.add(Dense(256, activation=\"relu\"))\n",
    "model.add(Dense(64, activation=\"relu\"))\n",
    "model.add(Dense(16, activation=\"relu\"))\n",
    "model.add(Dense(action_size))\n",
    "model.compile(loss=\"mean_squared_error\", optimizer=Adam(learning_rate=learning_rate))"
   ]
  },
  {
   "cell_type": "markdown",
   "metadata": {
    "id": "HPcoKBni4PW0",
    "pycharm": {
     "name": "#%% md\n"
    }
   },
   "source": [
    "Czas nauczyć agenta gry w środowisku *CartPool*:\n",
    "* 1 pkt < 10 epok,\n",
    "* 0.5 pkt < 20 epok,\n",
    "* 0.25 pkt - w pozostałych przypadkach."
   ]
  },
  {
   "cell_type": "code",
   "execution_count": 16,
   "metadata": {
    "colab": {
     "base_uri": "https://localhost:8080/"
    },
    "id": "r7qY97pg4PW0",
    "outputId": "a69d9f69-6ed2-4ebb-9738-c2a3b463e485",
    "pycharm": {
     "name": "#%%\n"
    }
   },
   "outputs": [
    {
     "output_type": "stream",
     "name": "stdout",
     "text": [
      "epoch #0\tmean reward = 17.550\tepsilon = 0.681\n",
      "epoch #1\tmean reward = 17.600\tepsilon = 0.616\n",
      "epoch #2\tmean reward = 27.880\tepsilon = 0.558\n",
      "epoch #3\tmean reward = 49.770\tepsilon = 0.505\n",
      "epoch #4\tmean reward = 102.380\tepsilon = 0.457\n",
      "epoch #5\tmean reward = 178.300\tepsilon = 0.413\n",
      "epoch #6\tmean reward = 178.470\tepsilon = 0.374\n",
      "epoch #7\tmean reward = 246.710\tepsilon = 0.338\n",
      "You Win!\n"
     ]
    }
   ],
   "source": [
    "def get_possible_actions(state):\n",
    "    return [0,1]\n",
    "\n",
    "agent = DQNAgent(action_size, learning_rate, model, get_possible_actions)\n",
    "\n",
    "agent.epsilon = 0.75\n",
    "\n",
    "done = False\n",
    "batch_size = 64\n",
    "EPISODES = 1000\n",
    "counter = 0\n",
    "for e in range(EPISODES):\n",
    "    summary = []\n",
    "    for _ in range(100):\n",
    "        total_reward = 0\n",
    "        env_state = env.reset()\n",
    "    \n",
    "        #\n",
    "        # INSERT CODE HERE to prepare appropriate format of the state for network\n",
    "        #\n",
    "        state = np.array([np.array(env_state).flatten()])\n",
    "        \n",
    "        for time in range(300):\n",
    "            action = agent.get_action(state)\n",
    "            next_state_env, reward, done, _ = env.step(action)\n",
    "            total_reward += reward\n",
    "\n",
    "            #\n",
    "            # INSERT CODE HERE to prepare appropriate format of the next state for network\n",
    "            #\n",
    "            next_state = np.array([np.array(next_state_env).flatten()])\n",
    "\n",
    "            #add to experience memory\n",
    "            agent.remember(state, action, reward, next_state, done)\n",
    "            state = next_state\n",
    "            if done:\n",
    "                break\n",
    "\n",
    "        #\n",
    "        # INSERT CODE HERE to train network if in the memory is more samples then size of the batch\n",
    "        #\n",
    "        if len(agent.memory) > batch_size:\n",
    "            agent.replay(batch_size)\n",
    "\n",
    "        summary.append(total_reward)\n",
    "\n",
    "    print(\"epoch #{}\\tmean reward = {:.3f}\\tepsilon = {:.3f}\".format(e, np.mean(summary), agent.epsilon))\n",
    "\n",
    "    if np.mean(summary) > 195:\n",
    "        print (\"You Win!\")\n",
    "        break"
   ]
  },
  {
   "cell_type": "code",
   "source": [],
   "metadata": {
    "id": "lHW49JU3ERMI",
    "pycharm": {
     "name": "#%%\n"
    }
   },
   "execution_count": null,
   "outputs": []
  }
 ],
 "metadata": {
  "kernelspec": {
   "display_name": "Python 3",
   "language": "python",
   "name": "python3"
  },
  "language_info": {
   "codemirror_mode": {
    "name": "ipython",
    "version": 3
   },
   "file_extension": ".py",
   "mimetype": "text/x-python",
   "name": "python",
   "nbconvert_exporter": "python",
   "pygments_lexer": "ipython3",
   "version": "3.9.2"
  },
  "colab": {
   "name": "Gracjan-Strzelec_239580_Lab. 4.ipynb",
   "provenance": [],
   "collapsed_sections": []
  },
  "accelerator": "GPU"
 },
 "nbformat": 4,
 "nbformat_minor": 0
}