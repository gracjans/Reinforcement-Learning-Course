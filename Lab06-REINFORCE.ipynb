{
 "cells": [
  {
   "cell_type": "markdown",
   "metadata": {
    "id": "TP9PB6xXrh8a",
    "pycharm": {
     "name": "#%% md\n"
    }
   },
   "source": [
    "# Laboratorium 6\n",
    "\n",
    "Celem szóstego laboratorium jest zapoznanie się oraz zaimplementowanie algorytmu głębokiego uczenia aktywnego - REINFORCE. Zaimplementowany algorytm będzie testowany z wykorzystaniem środowiska z OpenAI - *CartPole*.\n"
   ]
  },
  {
   "cell_type": "markdown",
   "metadata": {
    "id": "epQ6hA2srh8k",
    "pycharm": {
     "name": "#%% md\n"
    }
   },
   "source": [
    "Dołączenie standardowych bibliotek"
   ]
  },
  {
   "cell_type": "code",
   "execution_count": 1,
   "metadata": {
    "id": "as-3uXaHrh8p",
    "pycharm": {
     "name": "#%%\n"
    }
   },
   "outputs": [],
   "source": [
    "from collections import deque\n",
    "import gym\n",
    "import numpy as np\n",
    "import random"
   ]
  },
  {
   "cell_type": "markdown",
   "metadata": {
    "id": "3567ad6lrh8x",
    "pycharm": {
     "name": "#%% md\n"
    }
   },
   "source": [
    "Dołączenie bibliotek do obsługi sieci neuronowych"
   ]
  },
  {
   "cell_type": "code",
   "execution_count": 2,
   "metadata": {
    "id": "K-Jdz9d4rh8y",
    "pycharm": {
     "name": "#%%\n"
    }
   },
   "outputs": [],
   "source": [
    "from tensorflow.keras.models import Sequential, Model\n",
    "from tensorflow.keras.layers import Dense, Input, Activation\n",
    "from tensorflow.keras.optimizers import Adam\n",
    "from tensorflow.math import log\n",
    "from tensorflow.math import reduce_sum\n",
    "from tensorflow.python.framework.ops import disable_eager_execution\n",
    "disable_eager_execution()"
   ]
  },
  {
   "cell_type": "markdown",
   "metadata": {
    "id": "Gvkl--0Grh80",
    "pycharm": {
     "name": "#%% md\n"
    }
   },
   "source": [
    "## Zadanie 1 - REINFORCE\n",
    "\n",
    "<p style='text-align: justify;'>\n",
    "Celem ćwiczenie jest zaimplementowanie algorytmu REINFORCE. Wagi sieci aktualizowane są zgodnie ze wzorem:\n",
    "\\begin{equation*}\n",
    "    \\theta \\leftarrow \\theta + \\alpha G_t \\nabla_\\theta log \\pi_{\\theta}(a_t, s_t | \\theta)\n",
    "\\end{equation*}.\n",
    "</p>"
   ]
  },
  {
   "cell_type": "code",
   "execution_count": 3,
   "metadata": {
    "id": "TMcKgS1drh9E",
    "pycharm": {
     "name": "#%%\n"
    }
   },
   "outputs": [],
   "source": [
    "def get_cumulative_rewards(rewards,  # rewards at each step\n",
    "                           gamma=0.99  # discount for reward\n",
    "                           ):\n",
    "    \"\"\"\n",
    "    based on https://github.com/yandexdataschool/Practical_RL/blob/spring20/week06_policy_based/reinforce_tensorflow.ipynb\n",
    "    take a list of immediate rewards r(s,a) for the whole session\n",
    "    compute cumulative rewards R(s,a) (a.k.a. G(s,a) in Sutton '16)\n",
    "    R_t = r_t + gamma*r_{t+1} + gamma^2*r_{t+2} + ...\n",
    "\n",
    "    The simple way to compute cumulative rewards is to iterate from last to first time tick\n",
    "    and compute R_t = r_t + gamma*R_{t+1} recurrently\n",
    "\n",
    "    You must return an array/list of cumulative rewards with as many elements as in the initial rewards.\n",
    "    \"\"\"\n",
    "    cumulative_rewards = []\n",
    "    g = 0\n",
    "    for r in reversed(rewards):\n",
    "      g = r + gamma * g\n",
    "      cumulative_rewards.append(g)\n",
    "    cumulative_rewards.reverse()\n",
    "    return cumulative_rewards\n",
    "\n",
    "assert len(get_cumulative_rewards(range(100))) == 100\n",
    "assert np.allclose(get_cumulative_rewards([0, 0, 1, 0, 0, 1, 0], gamma=0.9),\n",
    "                   [1.40049, 1.5561, 1.729, 0.81, 0.9, 1.0, 0.0])\n",
    "assert np.allclose(get_cumulative_rewards([0, 0, 1, -2, 3, -4, 0], gamma=0.5),\n",
    "                   [0.0625, 0.125, 0.25, -1.5, 1.0, -4.0, 0.0])\n",
    "assert np.allclose(get_cumulative_rewards([0, 0, 1, 2, 3, 4, 0], gamma=0), [0, 0, 1, 2, 3, 4, 0])"
   ]
  },
  {
   "cell_type": "code",
   "execution_count": 4,
   "metadata": {
    "id": "T-Gru87_rh82",
    "pycharm": {
     "name": "#%%\n"
    }
   },
   "outputs": [],
   "source": [
    "class REINFORCEAgent:\n",
    "    def __init__(self, action_size, policy_model, value_model):\n",
    "        self.G = 0\n",
    "        self.action_size = action_size\n",
    "        self.gamma = 0.99    # discount rate\n",
    "        self.policy_model = policy_model\n",
    "        self.value_model = value_model\n",
    "        self.action_space = [i for i in range(action_size)]\n",
    "        self.state_memory = []\n",
    "        self.action_memory = []\n",
    "        self.reward_memory = []\n",
    "        \n",
    "    def remember(self, state, action, reward):\n",
    "        #Function adds information to the memory about last action and its results\n",
    "        self.state_memory.append(state)\n",
    "        self.action_memory.append(action)\n",
    "        self.reward_memory.append(reward)\n",
    "\n",
    "    def get_action(self, state):\n",
    "        \"\"\"\n",
    "        Compute the action to take in the current state, basing on policy returned by the network.\n",
    "\n",
    "        Note: To pick action according to the probability generated by the network\n",
    "        \"\"\"\n",
    "\n",
    "        #\n",
    "        # INSERT CODE HERE to get action in a given state\n",
    "        #        \n",
    "        state = state[np.newaxis, :]\n",
    "        chosen_action = np.random.choice(self.action_space, p=self.policy_model.predict(state)[0])\n",
    "\n",
    "        return chosen_action\n",
    "\n",
    "    def learn(self):\n",
    "        \"\"\"\n",
    "        Function learn network using data stored in state, action and reward memory. \n",
    "        First calculates G_t for each state and train network\n",
    "        \"\"\"\n",
    "        #\n",
    "        # INSERT CODE HERE to train network\n",
    "        #\n",
    "        state_memory = np.array(self.state_memory)\n",
    "        action_memory = np.array(self.action_memory)\n",
    "        reward_memory = np.array(self.reward_memory)\n",
    "\n",
    "        actions = np.zeros([len(action_memory), self.action_size])\n",
    "        actions[np.arange(len(action_memory)), action_memory] = 1\n",
    "\n",
    "        self.G = np.array(get_cumulative_rewards(reward_memory, self.gamma))\n",
    "        self.value_model.train_on_batch([state_memory, self.G], actions)\n",
    "\n",
    "        self.state_memory = []\n",
    "        self.action_memory = []\n",
    "        self.reward_memory = []"
   ]
  },
  {
   "cell_type": "markdown",
   "metadata": {
    "id": "t7a4Vjxkrh89",
    "pycharm": {
     "name": "#%% md\n"
    }
   },
   "source": [
    "Czas przygotować model sieci, która będzie się uczyła działania w środowisku [*CartPool*](https://gym.openai.com/envs/CartPole-v0/):"
   ]
  },
  {
   "cell_type": "code",
   "execution_count": 5,
   "metadata": {
    "id": "4dm4NX0frh8_",
    "pycharm": {
     "name": "#%%\n"
    }
   },
   "outputs": [],
   "source": [
    "env = gym.make(\"CartPole-v0\").env\n",
    "state_size = env.observation_space.shape[0]\n",
    "action_size = env.action_space.n\n",
    "learning_rate = 0.0005\n",
    "   \n",
    "#\n",
    "# INSERT CODE HERE to build network, in the last layer use softmax activation function\n",
    "#\n",
    "\n",
    "input = Input(shape=(state_size,))\n",
    "G = Input(shape=[1])\n",
    "x1 = Dense(64, activation='relu')(input)\n",
    "x2 = Dense(64, activation='relu')(x1)\n",
    "probs = Dense(action_size, activation='softmax')(x2)\n",
    "\n",
    "def custom_loss(y_true, y_pred):\n",
    "    log_lik = y_true * log(y_pred)\n",
    "    return reduce_sum(-log_lik * G)\n",
    "\n",
    "value_model = Model(inputs=[input, G], outputs=[probs])\n",
    "value_model.compile(optimizer=Adam(learning_rate=learning_rate), loss=custom_loss)\n",
    "\n",
    "policy_model = Model(inputs=[input], outputs=[probs])"
   ]
  },
  {
   "cell_type": "markdown",
   "metadata": {
    "id": "ibpN-Ez6rh9C",
    "pycharm": {
     "name": "#%% md\n"
    }
   },
   "source": [
    "Przygotuj funkcję obliczającą wartość nagrody skumulowanej:"
   ]
  },
  {
   "cell_type": "markdown",
   "metadata": {
    "id": "nlaeaGRjrh9H",
    "pycharm": {
     "name": "#%% md\n"
    }
   },
   "source": [
    "Czas nauczyć agenta gry w środowisku *CartPool*:"
   ]
  },
  {
   "cell_type": "code",
   "execution_count": 6,
   "metadata": {
    "id": "lQMMdbTRrh9K",
    "colab": {
     "base_uri": "https://localhost:8080/"
    },
    "outputId": "55fbaf96-6b1d-4291-a013-a42a435c94ea",
    "pycharm": {
     "name": "#%%\n"
    }
   },
   "outputs": [
    {
     "output_type": "stream",
     "name": "stderr",
     "text": [
      "/usr/local/lib/python3.7/dist-packages/keras/engine/training_v1.py:2079: UserWarning: `Model.state_updates` will be removed in a future version. This property should not be used in TensorFlow 2.0, as `updates` are applied automatically.\n",
      "  updates=self.state_updates,\n"
     ]
    },
    {
     "output_type": "stream",
     "name": "stdout",
     "text": [
      "mean reward:32.310\n",
      "mean reward:63.640\n",
      "mean reward:118.650\n",
      "mean reward:197.390\n",
      "mean reward:331.510\n",
      "You Win!\n"
     ]
    }
   ],
   "source": [
    "agent = REINFORCEAgent(action_size, policy_model, value_model)\n",
    "\n",
    "\n",
    "def generate_session(t_max=1000):\n",
    "    \"\"\"play env with REINFORCE agent and train at the session end\"\"\"\n",
    "\n",
    "    reward = 0\n",
    "\n",
    "    s = env.reset()\n",
    "\n",
    "    for t in range(t_max):\n",
    "\n",
    "        # chose action\n",
    "        a = agent.get_action(s)\n",
    "\n",
    "        new_s, r, done, info = env.step(a)\n",
    "\n",
    "        # record session history to train later\n",
    "        agent.remember(s, a, r)\n",
    "\n",
    "        reward += r\n",
    "\n",
    "        s = new_s\n",
    "        if done: break\n",
    "\n",
    "    agent.learn()\n",
    "\n",
    "    return reward\n",
    "\n",
    "\n",
    "for i in range(100):\n",
    "\n",
    "    rewards = [generate_session() for _ in range(100)]  # generate new sessions\n",
    "\n",
    "    print(\"mean reward:%.3f\" % (np.mean(rewards)))\n",
    "\n",
    "    if np.mean(rewards) > 300:\n",
    "        print(\"You Win!\")\n",
    "        break"
   ]
  }
 ],
 "metadata": {
  "kernelspec": {
   "display_name": "Python 3",
   "language": "python",
   "name": "python3"
  },
  "language_info": {
   "codemirror_mode": {
    "name": "ipython",
    "version": 3
   },
   "file_extension": ".py",
   "mimetype": "text/x-python",
   "name": "python",
   "nbconvert_exporter": "python",
   "pygments_lexer": "ipython3",
   "version": "3.6.10"
  },
  "colab": {
   "name": "Lab06-Gracjan_Strzelec.ipynb",
   "provenance": [],
   "collapsed_sections": []
  }
 },
 "nbformat": 4,
 "nbformat_minor": 0
}